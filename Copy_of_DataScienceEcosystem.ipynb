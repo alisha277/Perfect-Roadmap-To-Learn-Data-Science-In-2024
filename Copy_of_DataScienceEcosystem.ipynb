{
  "nbformat": 4,
  "nbformat_minor": 0,
  "metadata": {
    "colab": {
      "provenance": [],
      "authorship_tag": "ABX9TyNAStvU+4Gk/NsSSsccfIlI",
      "include_colab_link": true
    },
    "kernelspec": {
      "name": "python3",
      "display_name": "Python 3"
    },
    "language_info": {
      "name": "python"
    }
  },
  "cells": [
    {
      "cell_type": "markdown",
      "metadata": {
        "id": "view-in-github",
        "colab_type": "text"
      },
      "source": [
        "<a href=\"https://colab.research.google.com/github/alisha277/Perfect-Roadmap-To-Learn-Data-Science-In-2024/blob/main/Copy_of_DataScienceEcosystem.ipynb\" target=\"_parent\"><img src=\"https://colab.research.google.com/assets/colab-badge.svg\" alt=\"Open In Colab\"/></a>"
      ]
    },
    {
      "cell_type": "markdown",
      "source": [
        "#Data Science Tools and Ecosystem"
      ],
      "metadata": {
        "id": "RbUYQcCKZRL3"
      }
    },
    {
      "cell_type": "markdown",
      "source": [
        "In this notebook, Data Science Tools and Ecosystem are summarized."
      ],
      "metadata": {
        "id": "bfkVYSMwbjlH"
      }
    },
    {
      "cell_type": "markdown",
      "source": [
        "**Objectives**:Some of the popular languages that Data Scientists use are:\n",
        "\n",
        "* Python\n",
        "* Sql\n",
        "* R"
      ],
      "metadata": {
        "id": "F1WxtChQcuF1"
      }
    },
    {
      "cell_type": "markdown",
      "source": [
        "Some of the commonly used libraries used by Data Scientists include:\n",
        "1. Pandas\n",
        "2. Matolotlib\n",
        "3. Seaborn\n",
        "4. Plotly\n",
        "5. Scikit-learn\n",
        "6. TensorFlow\n",
        "7. PyTorch\n"
      ],
      "metadata": {
        "id": "N4Pka7wDdwTH"
      }
    },
    {
      "cell_type": "markdown",
      "source": [
        "#Data Science Tools\n",
        "\n",
        "\n",
        " | Data Science Tools |\n",
        " |--------------------|\n",
        " |Jupyter Notebook    |\n",
        " |R-studio            |\n",
        " |spyder              |\n",
        "\n"
      ],
      "metadata": {
        "id": "bWHFvBsre-aO"
      }
    },
    {
      "cell_type": "markdown",
      "source": [
        "###Below are a few examples of evaluating arithmetic expressions in Python."
      ],
      "metadata": {
        "id": "NqGQ1gncHJZA"
      }
    },
    {
      "cell_type": "code",
      "source": [
        "#This a simple arithmetic expression to mutiply then add integers\n",
        "(3*4)+5"
      ],
      "metadata": {
        "colab": {
          "base_uri": "https://localhost:8080/"
        },
        "id": "2-JathCfIu4p",
        "outputId": "89d85024-abc9-465a-9ae8-2f9d33cda110"
      },
      "execution_count": 1,
      "outputs": [
        {
          "output_type": "execute_result",
          "data": {
            "text/plain": [
              "17"
            ]
          },
          "metadata": {},
          "execution_count": 1
        }
      ]
    },
    {
      "cell_type": "code",
      "source": [
        "#This will convert 200 minutes to hours by diving by 60.\n",
        "200/60\n"
      ],
      "metadata": {
        "colab": {
          "base_uri": "https://localhost:8080/"
        },
        "id": "zwpOXTISJXGq",
        "outputId": "b523b795-a88b-4f0b-ef85-4c938e0cde2d"
      },
      "execution_count": 2,
      "outputs": [
        {
          "output_type": "execute_result",
          "data": {
            "text/plain": [
              "3.3333333333333335"
            ]
          },
          "metadata": {},
          "execution_count": 2
        }
      ]
    },
    {
      "cell_type": "markdown",
      "source": [
        "##Author\n",
        "Alisha"
      ],
      "metadata": {
        "id": "usBxvsOML0fc"
      }
    }
  ]
}